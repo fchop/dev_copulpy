{
 "cells": [
  {
   "cell_type": "markdown",
   "metadata": {},
   "source": [
    "Experiment with the copulpy package\n",
    "==="
   ]
  },
  {
   "cell_type": "code",
   "execution_count": 14,
   "metadata": {},
   "outputs": [],
   "source": [
    "import numpy as np\n",
    "import matplotlib.pyplot as plt\n",
    "\n",
    "from copulpy.tests.test_auxiliary import generate_random_request\n",
    "from copulpy.clsUtilityCopula import UtilityCopulaCls\n",
    "from copulpy.shared.auxiliary import distribute_copula_spec\n",
    "\n",
    "np.random.seed(123)"
   ]
  },
  {
   "cell_type": "code",
   "execution_count": 4,
   "metadata": {},
   "outputs": [
    {
     "name": "stdout",
     "output_type": "stream",
     "text": [
      "version: nonstationary\n",
      "alpha: 0.52, beta: 0.83, gamma: 0.63, y_scale: 6.85\n",
      "x: 7.00, y: 6.61, utility: 17.23.\n",
      "17.233836156346772\n",
      "17.233836156346772\n",
      "32.21784751261115\n",
      "17.313416959010777\n",
      "34.65571226114857\n",
      "28.45693491000336\n",
      "19.733433736633906\n",
      "\n",
      "\n"
     ]
    }
   ],
   "source": [
    "for _ in range(1):\n",
    "    x, y, is_normalized, copula_spec = generate_random_request({'version': 'nonstationary'})\n",
    "\n",
    "    copula = UtilityCopulaCls(copula_spec)\n",
    "    util = copula.evaluate(x, y, is_normalized)\n",
    "\n",
    "    alpha, beta, gamma, y_scale, version = \\\n",
    "        distribute_copula_spec(copula_spec, 'alpha', 'beta', 'gamma', 'y_scale', 'version')\n",
    "\n",
    "    print('version: {}'.format(version))\n",
    "    print('alpha: {0:.2f}, beta: {1:.2f}, gamma: {2:.2f}, y_scale: {3:.2f}'.format(\n",
    "        alpha, beta, gamma, y_scale)\n",
    "    )\n",
    "    print('x: {0:.2f}, y: {1:.2f}, utility: {2:.2f}.'.format(x, y, util))\n",
    "\n",
    "    # Don't expect monotonicity here\n",
    "    print(copula.evaluate(x, y))\n",
    "    print(copula.evaluate(x, y, t=0))\n",
    "    print(copula.evaluate(x, y, t=1))\n",
    "    print(copula.evaluate(x, y, t=3))\n",
    "    print(copula.evaluate(x, y, t=6))\n",
    "    print(copula.evaluate(x, y, t=12))\n",
    "    print(copula.evaluate(x, y, t=24))\n",
    "\n",
    "    print('\\n')"
   ]
  },
  {
   "cell_type": "code",
   "execution_count": null,
   "metadata": {},
   "outputs": [],
   "source": []
  },
  {
   "cell_type": "code",
   "execution_count": 13,
   "metadata": {},
   "outputs": [
    {
     "name": "stdout",
     "output_type": "stream",
     "text": [
      "7.245315657543012\n",
      "7.245315657543012\n",
      "3.2166673782445714\n"
     ]
    }
   ],
   "source": [
    "# Create an instance of the copula class by hand.\n",
    "\n",
    "# TODO: This is super inconvenient. Need to simplify the procedure.\n",
    "specs = {'alpha': 0.8,\n",
    "         'beta': 0.7,\n",
    "         'gamma': 0.6,\n",
    "         'discount_factors': {0: 1, 1: 0.95, 3: 0.9, 6: 0.8, 12: 0.7, 24: 0.4},\n",
    "         'y_scale': 0.5,\n",
    "         'unrestricted_weights': None,\n",
    "         'version': 'nonstationary',\n",
    "        }\n",
    "copula_specs = {'version': 'nonstationary', 'nonstationary': specs}\n",
    "\n",
    "copula = UtilityCopulaCls(copula_specs)\n",
    "print(copula.evaluate(10, 10))\n",
    "print(copula.evaluate(10, 10, 0))\n",
    "print(copula.evaluate(10, 10, 24))"
   ]
  },
  {
   "cell_type": "code",
   "execution_count": 25,
   "metadata": {},
   "outputs": [
    {
     "data": {
      "text/plain": [
       "<matplotlib.contour.QuadContourSet at 0x7fac249916d8>"
      ]
     },
     "execution_count": 25,
     "metadata": {},
     "output_type": "execute_result"
    },
    {
     "data": {
      "image/png": "[encoded data removed]",
      "text/plain": [
       "<Figure size 432x288 with 1 Axes>"
      ]
     },
     "metadata": {
      "needs_background": "light"
     },
     "output_type": "display_data"
    }
   ],
   "source": [
    "# Plot the copula.\n",
    "\n",
    "# Vectorize evaluation\n",
    "eval_copula_self = lambda x, y: copula.evaluate(x, y)\n",
    "vec_eval_copula = np.vectorize(eval_copula_self)\n",
    "\n",
    "# Make 2D grid\n",
    "nx, ny = (100, 100)\n",
    "x = np.linspace(0, 50, nx)\n",
    "y = np.linspace(0, 50, ny)\n",
    "xv, yv = np.meshgrid(x, y)\n",
    "\n",
    "# Evaluate copula\n",
    "z = vec_eval_copula(xv, yv)\n",
    "\n",
    "# Plot surface\n",
    "plt.interactive(True)\n",
    "plt.subplots()\n",
    "plt.contourf(x,y,z)"
   ]
  },
  {
   "cell_type": "code",
   "execution_count": null,
   "metadata": {},
   "outputs": [],
   "source": []
  },
  {
   "cell_type": "code",
   "execution_count": null,
   "metadata": {},
   "outputs": [],
   "source": []
  },
  {
   "cell_type": "code",
   "execution_count": null,
   "metadata": {},
   "outputs": [],
   "source": []
  },
  {
   "cell_type": "code",
   "execution_count": null,
   "metadata": {},
   "outputs": [],
   "source": []
  }
 ],
 "metadata": {
  "kernelspec": {
   "display_name": "Python 3",
   "language": "python",
   "name": "python3"
  },
  "language_info": {
   "codemirror_mode": {
    "name": "ipython",
    "version": 3
   },
   "file_extension": ".py",
   "mimetype": "text/x-python",
   "name": "python",
   "nbconvert_exporter": "python",
   "pygments_lexer": "ipython3",
   "version": "3.7.0"
  }
 },
 "nbformat": 4,
 "nbformat_minor": 2
}
