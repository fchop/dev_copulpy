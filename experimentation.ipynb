{
 "cells": [
  {
   "cell_type": "markdown",
   "metadata": {},
   "source": [
    "Experiment with the copulpy package\n",
    "==="
   ]
  },
  {
   "cell_type": "code",
   "execution_count": 1,
   "metadata": {},
   "outputs": [],
   "source": [
    "import numpy as np\n",
    "import matplotlib.pyplot as plt\n",
    "\n",
    "from copulpy.tests.test_auxiliary import generate_random_request\n",
    "from copulpy.clsUtilityCopula import UtilityCopulaCls\n",
    "from copulpy.shared.auxiliary import distribute_copula_spec\n",
    "from copulpy.shared.auxiliary import build_copula_spec\n",
    "\n",
    "np.random.seed(123)"
   ]
  },
  {
   "cell_type": "code",
   "execution_count": 2,
   "metadata": {},
   "outputs": [
    {
     "name": "stdout",
     "output_type": "stream",
     "text": [
      "version: nonstationary\n",
      "alpha: 0.82, beta: 0.57, gamma: 0.54, y_scale: 5.74\n",
      "x: 1.75, y: 5.32, utility: 10.52.\n",
      "10.51887419241028\n",
      "10.51887419241028\n",
      "8.776877127576725\n",
      "11.925862220089323\n",
      "10.324311384421291\n",
      "9.131944372549704\n",
      "8.583021663968\n",
      "\n",
      "\n"
     ]
    }
   ],
   "source": [
    "for _ in range(1):\n",
    "    x, y, is_normalized, copula_spec = generate_random_request({'version': 'nonstationary'})\n",
    "\n",
    "    copula = UtilityCopulaCls(copula_spec)\n",
    "    util = copula.evaluate(x, y, is_normalized)\n",
    "\n",
    "    alpha, beta, gamma, y_scale, version = \\\n",
    "        distribute_copula_spec(copula_spec, 'alpha', 'beta', 'gamma', 'y_scale', 'version')\n",
    "\n",
    "    print('version: {}'.format(version))\n",
    "    print('alpha: {0:.2f}, beta: {1:.2f}, gamma: {2:.2f}, y_scale: {3:.2f}'.format(\n",
    "        alpha, beta, gamma, y_scale)\n",
    "    )\n",
    "    print('x: {0:.2f}, y: {1:.2f}, utility: {2:.2f}.'.format(x, y, util))\n",
    "\n",
    "    # Don't expect monotonicity here\n",
    "    print(copula.evaluate(x, y))\n",
    "    print(copula.evaluate(x, y, t=0))\n",
    "    print(copula.evaluate(x, y, t=1))\n",
    "    print(copula.evaluate(x, y, t=3))\n",
    "    print(copula.evaluate(x, y, t=6))\n",
    "    print(copula.evaluate(x, y, t=12))\n",
    "    print(copula.evaluate(x, y, t=24))\n",
    "\n",
    "    print('\\n')"
   ]
  },
  {
   "cell_type": "code",
   "execution_count": null,
   "metadata": {},
   "outputs": [],
   "source": []
  },
  {
   "cell_type": "code",
   "execution_count": 4,
   "metadata": {},
   "outputs": [
    {
     "name": "stdout",
     "output_type": "stream",
     "text": [
      "10.039717424818031\n"
     ]
    }
   ],
   "source": [
    "# Create an instance of the copula class by hand.\n",
    "\n",
    "copula_spec = build_copula_spec(version='nonstationary',\n",
    "                                alpha = 0.8,\n",
    "                                beta = 0.7,\n",
    "                                gamma = 0.6,\n",
    "                                discount_factors = {0: 1, 1: 0.95, 3: 0.9, 6: 0.8, 12: 0.7, 24: 0.4},\n",
    "                                y_scale = 0.5,\n",
    "                                )\n",
    "\n",
    "copula = UtilityCopulaCls(copula_spec)\n",
    "print(copula.evaluate(10, 100))"
   ]
  },
  {
   "cell_type": "code",
   "execution_count": 12,
   "metadata": {},
   "outputs": [
    {
     "data": {
      "image/png": "[encoded data removed]",
      "text/plain": [
       "<Figure size 432x288 with 2 Axes>"
      ]
     },
     "metadata": {
      "needs_background": "light"
     },
     "output_type": "display_data"
    }
   ],
   "source": [
    "# Plot the copula\n",
    "\n",
    "# Vectorize evaluation\n",
    "eval_copula_self = lambda x, y: copula.evaluate(x, y)\n",
    "vec_eval_copula = np.vectorize(eval_copula_self)\n",
    "\n",
    "# Make 2D grid\n",
    "nx, ny = (100, 100)\n",
    "x = np.linspace(0, 50, nx)\n",
    "y = np.linspace(0, 50, ny)\n",
    "xv, yv = np.meshgrid(x, y)\n",
    "\n",
    "# Evaluate copula\n",
    "z = vec_eval_copula(xv, yv)\n",
    "\n",
    "# Plot surface\n",
    "plt.interactive(True)\n",
    "plt.subplots()\n",
    "plt.contourf(x,y,z)\n",
    "plt.xlabel('self money')\n",
    "plt.ylabel('other money')\n",
    "cbar = plt.colorbar()\n",
    "cbar.set_label('utility')"
   ]
  },
  {
   "cell_type": "code",
   "execution_count": 17,
   "metadata": {},
   "outputs": [
    {
     "data": {
      "text/plain": [
       "<matplotlib.legend.Legend at 0x7f29802b8160>"
      ]
     },
     "execution_count": 17,
     "metadata": {},
     "output_type": "execute_result"
    },
    {
     "data": {
      "image/png": "[encoded data removed]",
      "text/plain": [
       "<Figure size 432x288 with 1 Axes>"
      ]
     },
     "metadata": {
      "needs_background": "light"
     },
     "output_type": "display_data"
    }
   ],
   "source": [
    "# Plot marginals\n",
    "\n",
    "# Vectorize evaluation\n",
    "marginal_self = lambda x: copula.evaluate(x, 0)\n",
    "marginal_other = lambda y: copula.evaluate(0, y)\n",
    "vec_marginal_self = np.vectorize(marginal_self)\n",
    "vec_marginal_other = np.vectorize(marginal_other)\n",
    "\n",
    "# Make 1D grid\n",
    "nx = 100\n",
    "xgrid = np.linspace(0, 50, nx)\n",
    "\n",
    "# Plot marginals\n",
    "plt.subplots()\n",
    "plt.plot(xgrid, vec_marginal_self(xgrid), label=\"Marginal: self\")\n",
    "plt.plot(xgrid, vec_marginal_other(xgrid), label=\"Marginal: other\")\n",
    "plt.xlabel('money')\n",
    "plt.ylabel('utility')\n",
    "plt.legend()"
   ]
  },
  {
   "cell_type": "code",
   "execution_count": 29,
   "metadata": {},
   "outputs": [
    {
     "data": {
      "text/plain": [
       "<matplotlib.legend.Legend at 0x7f297fcd5898>"
      ]
     },
     "execution_count": 29,
     "metadata": {},
     "output_type": "execute_result"
    },
    {
     "data": {
      "image/png": "[encoded data removed]",
      "text/plain": [
       "<Figure size 432x288 with 1 Axes>"
      ]
     },
     "metadata": {
      "needs_background": "light"
     },
     "output_type": "display_data"
    }
   ],
   "source": [
    "# Plot function for various correlation aversions (alpha)\n",
    "\n",
    "copula_alpha = lambda x: build_copula_spec(version='nonstationary',\n",
    "                                alpha = x,\n",
    "                                beta = 0.7, gamma = 0.6,\n",
    "                                discount_factors = {0: 1, 1: 0.95, 3: 0.9, 6: 0.8, 12: 0.7, 24: 0.4},\n",
    "                                y_scale = 0.5,\n",
    "                                )\n",
    "\n",
    "eval_copula_alpha = lambda x: UtilityCopulaCls(copula_alpha(x)).evaluate(10, 10)\n",
    "\n",
    "vec_eval_alpha = np.vectorize(eval_copula_alpha)\n",
    "\n",
    "# preparations\n",
    "nx = 100\n",
    "xgrid = np.linspace(0.3, 0.95, nx)\n",
    "ygrid = vec_eval_alpha(xgrid)\n",
    "\n",
    "# Plot\n",
    "plt.subplots()\n",
    "plt.plot(xgrid, ygrid, label=\"Utility at (10, 10)\")\n",
    "plt.xlabel('Correlation aversion')\n",
    "plt.ylabel('Utility')\n",
    "plt.legend()"
   ]
  },
  {
   "cell_type": "code",
   "execution_count": null,
   "metadata": {},
   "outputs": [],
   "source": []
  },
  {
   "cell_type": "code",
   "execution_count": null,
   "metadata": {},
   "outputs": [],
   "source": []
  }
 ],
 "metadata": {
  "kernelspec": {
   "display_name": "Python 3",
   "language": "python",
   "name": "python3"
  },
  "language_info": {
   "codemirror_mode": {
    "name": "ipython",
    "version": 3
   },
   "file_extension": ".py",
   "mimetype": "text/x-python",
   "name": "python",
   "nbconvert_exporter": "python",
   "pygments_lexer": "ipython3",
   "version": "3.7.0"
  }
 },
 "nbformat": 4,
 "nbformat_minor": 2
}
